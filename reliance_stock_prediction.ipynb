{
  "cells": [
    {
      "cell_type": "markdown",
      "metadata": {
        "id": "view-in-github",
        "colab_type": "text"
      },
      "source": [
        "<a href=\"https://colab.research.google.com/github/rebaJesudoss/reliance_stock_price_prediction/blob/main/reliance_stock_prediction.ipynb\" target=\"_parent\"><img src=\"https://colab.research.google.com/assets/colab-badge.svg\" alt=\"Open In Colab\"/></a>"
      ]
    },
    {
      "cell_type": "code",
      "execution_count": null,
      "id": "710ed718",
      "metadata": {
        "id": "710ed718"
      },
      "outputs": [],
      "source": [
        "import numpy as np\n",
        "import pandas as pd\n",
        "import sklearn\n",
        "import tensorflow as tf\n",
        "import matplotlib.pyplot as plt\n",
        "\n",
        "# Check for TensorFlow GPU access\n",
        "#print(f\"TensorFlow has access to the following devices:\\n{tf.config.list_physical_devices()}\")\n",
        "\n",
        "# See TensorFlow version\n",
        "#print(f\"TensorFlow version: {tf.__version__}\")"
      ]
    },
    {
      "cell_type": "code",
      "execution_count": 22,
      "id": "1fbc2b71",
      "metadata": {
        "id": "1fbc2b71"
      },
      "outputs": [],
      "source": [
        "import os as os\n",
        "import numpy as np\n",
        "import pandas as pd\n",
        "import matplotlib.pyplot as plt\n",
        "import tensorflow as tf\n",
        "%matplotlib inline\n",
        "%matplotlib inline"
      ]
    },
    {
      "cell_type": "code",
      "source": [
        "from google.colab import files\n",
        "uploaded = files.upload()"
      ],
      "metadata": {
        "colab": {
          "resources": {
            "http://localhost:8080/nbextensions/google.colab/files.js": {
              "data": "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",
              "ok": true,
              "headers": [
                [
                  "content-type",
                  "application/javascript"
                ]
              ],
              "status": 200,
              "status_text": ""
            }
          },
          "base_uri": "https://localhost:8080/",
          "height": 74
        },
        "id": "vhDpYPGyeeH1",
        "outputId": "5115a136-6fe0-410f-d88b-11682e203a69"
      },
      "id": "vhDpYPGyeeH1",
      "execution_count": 23,
      "outputs": [
        {
          "output_type": "display_data",
          "data": {
            "text/plain": [
              "<IPython.core.display.HTML object>"
            ],
            "text/html": [
              "\n",
              "     <input type=\"file\" id=\"files-fda46565-96c6-4aef-87ca-322dca111979\" name=\"files[]\" multiple disabled\n",
              "        style=\"border:none\" />\n",
              "     <output id=\"result-fda46565-96c6-4aef-87ca-322dca111979\">\n",
              "      Upload widget is only available when the cell has been executed in the\n",
              "      current browser session. Please rerun this cell to enable.\n",
              "      </output>\n",
              "      <script src=\"/nbextensions/google.colab/files.js\"></script> "
            ]
          },
          "metadata": {}
        },
        {
          "output_type": "stream",
          "name": "stdout",
          "text": [
            "Saving reliance.xlsx to reliance (1).xlsx\n"
          ]
        }
      ]
    },
    {
      "cell_type": "code",
      "source": [
        "import io\n",
        "data = pd.read_excel(io.BytesIO(uploaded['reliance.xlsx']))\n",
        "data"
      ],
      "metadata": {
        "colab": {
          "base_uri": "https://localhost:8080/",
          "height": 424
        },
        "id": "DfkQI6BARz0f",
        "outputId": "af2baf9c-e10e-44cf-ee98-f52bf9266850"
      },
      "id": "DfkQI6BARz0f",
      "execution_count": 24,
      "outputs": [
        {
          "output_type": "execute_result",
          "data": {
            "text/plain": [
              "           Date  Open Price  High Price  Low Price  Close Price  \\\n",
              "0    2010-01-04     1091.10      1091.1    1021.85      1075.50   \n",
              "1    2010-01-05     1149.90      1149.9    1065.40      1070.70   \n",
              "2    2010-01-06     1079.90      1094.5    1070.65      1088.00   \n",
              "3    2010-01-07     1088.00      1115.0    1078.00      1106.05   \n",
              "4    2010-01-08     1108.00      1113.8    1096.00      1103.15   \n",
              "...         ...         ...         ...        ...          ...   \n",
              "2716 2020-12-24     1947.00      1998.8    1945.90      1994.15   \n",
              "2717 2020-12-28     2006.70      2018.0    1995.30      2003.30   \n",
              "2718 2020-12-29     2009.00      2012.3    1982.55      1990.05   \n",
              "2719 2020-12-30     1995.25      2007.2    1975.55      1995.50   \n",
              "2720 2020-12-31     1993.50      2011.9    1978.60      1985.30   \n",
              "\n",
              "      Deliverable Qty  \n",
              "0            14348117  \n",
              "1             2861065  \n",
              "2             2539975  \n",
              "3             2522438  \n",
              "4             1253746  \n",
              "...               ...  \n",
              "2716          2141157  \n",
              "2717          1821777  \n",
              "2718          3009732  \n",
              "2719          3159950  \n",
              "2720          2538214  \n",
              "\n",
              "[2721 rows x 6 columns]"
            ],
            "text/html": [
              "\n",
              "  <div id=\"df-4898d3e5-16df-43ca-9f74-e9ab956f0435\">\n",
              "    <div class=\"colab-df-container\">\n",
              "      <div>\n",
              "<style scoped>\n",
              "    .dataframe tbody tr th:only-of-type {\n",
              "        vertical-align: middle;\n",
              "    }\n",
              "\n",
              "    .dataframe tbody tr th {\n",
              "        vertical-align: top;\n",
              "    }\n",
              "\n",
              "    .dataframe thead th {\n",
              "        text-align: right;\n",
              "    }\n",
              "</style>\n",
              "<table border=\"1\" class=\"dataframe\">\n",
              "  <thead>\n",
              "    <tr style=\"text-align: right;\">\n",
              "      <th></th>\n",
              "      <th>Date</th>\n",
              "      <th>Open Price</th>\n",
              "      <th>High Price</th>\n",
              "      <th>Low Price</th>\n",
              "      <th>Close Price</th>\n",
              "      <th>Deliverable Qty</th>\n",
              "    </tr>\n",
              "  </thead>\n",
              "  <tbody>\n",
              "    <tr>\n",
              "      <th>0</th>\n",
              "      <td>2010-01-04</td>\n",
              "      <td>1091.10</td>\n",
              "      <td>1091.1</td>\n",
              "      <td>1021.85</td>\n",
              "      <td>1075.50</td>\n",
              "      <td>14348117</td>\n",
              "    </tr>\n",
              "    <tr>\n",
              "      <th>1</th>\n",
              "      <td>2010-01-05</td>\n",
              "      <td>1149.90</td>\n",
              "      <td>1149.9</td>\n",
              "      <td>1065.40</td>\n",
              "      <td>1070.70</td>\n",
              "      <td>2861065</td>\n",
              "    </tr>\n",
              "    <tr>\n",
              "      <th>2</th>\n",
              "      <td>2010-01-06</td>\n",
              "      <td>1079.90</td>\n",
              "      <td>1094.5</td>\n",
              "      <td>1070.65</td>\n",
              "      <td>1088.00</td>\n",
              "      <td>2539975</td>\n",
              "    </tr>\n",
              "    <tr>\n",
              "      <th>3</th>\n",
              "      <td>2010-01-07</td>\n",
              "      <td>1088.00</td>\n",
              "      <td>1115.0</td>\n",
              "      <td>1078.00</td>\n",
              "      <td>1106.05</td>\n",
              "      <td>2522438</td>\n",
              "    </tr>\n",
              "    <tr>\n",
              "      <th>4</th>\n",
              "      <td>2010-01-08</td>\n",
              "      <td>1108.00</td>\n",
              "      <td>1113.8</td>\n",
              "      <td>1096.00</td>\n",
              "      <td>1103.15</td>\n",
              "      <td>1253746</td>\n",
              "    </tr>\n",
              "    <tr>\n",
              "      <th>...</th>\n",
              "      <td>...</td>\n",
              "      <td>...</td>\n",
              "      <td>...</td>\n",
              "      <td>...</td>\n",
              "      <td>...</td>\n",
              "      <td>...</td>\n",
              "    </tr>\n",
              "    <tr>\n",
              "      <th>2716</th>\n",
              "      <td>2020-12-24</td>\n",
              "      <td>1947.00</td>\n",
              "      <td>1998.8</td>\n",
              "      <td>1945.90</td>\n",
              "      <td>1994.15</td>\n",
              "      <td>2141157</td>\n",
              "    </tr>\n",
              "    <tr>\n",
              "      <th>2717</th>\n",
              "      <td>2020-12-28</td>\n",
              "      <td>2006.70</td>\n",
              "      <td>2018.0</td>\n",
              "      <td>1995.30</td>\n",
              "      <td>2003.30</td>\n",
              "      <td>1821777</td>\n",
              "    </tr>\n",
              "    <tr>\n",
              "      <th>2718</th>\n",
              "      <td>2020-12-29</td>\n",
              "      <td>2009.00</td>\n",
              "      <td>2012.3</td>\n",
              "      <td>1982.55</td>\n",
              "      <td>1990.05</td>\n",
              "      <td>3009732</td>\n",
              "    </tr>\n",
              "    <tr>\n",
              "      <th>2719</th>\n",
              "      <td>2020-12-30</td>\n",
              "      <td>1995.25</td>\n",
              "      <td>2007.2</td>\n",
              "      <td>1975.55</td>\n",
              "      <td>1995.50</td>\n",
              "      <td>3159950</td>\n",
              "    </tr>\n",
              "    <tr>\n",
              "      <th>2720</th>\n",
              "      <td>2020-12-31</td>\n",
              "      <td>1993.50</td>\n",
              "      <td>2011.9</td>\n",
              "      <td>1978.60</td>\n",
              "      <td>1985.30</td>\n",
              "      <td>2538214</td>\n",
              "    </tr>\n",
              "  </tbody>\n",
              "</table>\n",
              "<p>2721 rows × 6 columns</p>\n",
              "</div>\n",
              "      <button class=\"colab-df-convert\" onclick=\"convertToInteractive('df-4898d3e5-16df-43ca-9f74-e9ab956f0435')\"\n",
              "              title=\"Convert this dataframe to an interactive table.\"\n",
              "              style=\"display:none;\">\n",
              "        \n",
              "  <svg xmlns=\"http://www.w3.org/2000/svg\" height=\"24px\"viewBox=\"0 0 24 24\"\n",
              "       width=\"24px\">\n",
              "    <path d=\"M0 0h24v24H0V0z\" fill=\"none\"/>\n",
              "    <path d=\"M18.56 5.44l.94 2.06.94-2.06 2.06-.94-2.06-.94-.94-2.06-.94 2.06-2.06.94zm-11 1L8.5 8.5l.94-2.06 2.06-.94-2.06-.94L8.5 2.5l-.94 2.06-2.06.94zm10 10l.94 2.06.94-2.06 2.06-.94-2.06-.94-.94-2.06-.94 2.06-2.06.94z\"/><path d=\"M17.41 7.96l-1.37-1.37c-.4-.4-.92-.59-1.43-.59-.52 0-1.04.2-1.43.59L10.3 9.45l-7.72 7.72c-.78.78-.78 2.05 0 2.83L4 21.41c.39.39.9.59 1.41.59.51 0 1.02-.2 1.41-.59l7.78-7.78 2.81-2.81c.8-.78.8-2.07 0-2.86zM5.41 20L4 18.59l7.72-7.72 1.47 1.35L5.41 20z\"/>\n",
              "  </svg>\n",
              "      </button>\n",
              "      \n",
              "  <style>\n",
              "    .colab-df-container {\n",
              "      display:flex;\n",
              "      flex-wrap:wrap;\n",
              "      gap: 12px;\n",
              "    }\n",
              "\n",
              "    .colab-df-convert {\n",
              "      background-color: #E8F0FE;\n",
              "      border: none;\n",
              "      border-radius: 50%;\n",
              "      cursor: pointer;\n",
              "      display: none;\n",
              "      fill: #1967D2;\n",
              "      height: 32px;\n",
              "      padding: 0 0 0 0;\n",
              "      width: 32px;\n",
              "    }\n",
              "\n",
              "    .colab-df-convert:hover {\n",
              "      background-color: #E2EBFA;\n",
              "      box-shadow: 0px 1px 2px rgba(60, 64, 67, 0.3), 0px 1px 3px 1px rgba(60, 64, 67, 0.15);\n",
              "      fill: #174EA6;\n",
              "    }\n",
              "\n",
              "    [theme=dark] .colab-df-convert {\n",
              "      background-color: #3B4455;\n",
              "      fill: #D2E3FC;\n",
              "    }\n",
              "\n",
              "    [theme=dark] .colab-df-convert:hover {\n",
              "      background-color: #434B5C;\n",
              "      box-shadow: 0px 1px 3px 1px rgba(0, 0, 0, 0.15);\n",
              "      filter: drop-shadow(0px 1px 2px rgba(0, 0, 0, 0.3));\n",
              "      fill: #FFFFFF;\n",
              "    }\n",
              "  </style>\n",
              "\n",
              "      <script>\n",
              "        const buttonEl =\n",
              "          document.querySelector('#df-4898d3e5-16df-43ca-9f74-e9ab956f0435 button.colab-df-convert');\n",
              "        buttonEl.style.display =\n",
              "          google.colab.kernel.accessAllowed ? 'block' : 'none';\n",
              "\n",
              "        async function convertToInteractive(key) {\n",
              "          const element = document.querySelector('#df-4898d3e5-16df-43ca-9f74-e9ab956f0435');\n",
              "          const dataTable =\n",
              "            await google.colab.kernel.invokeFunction('convertToInteractive',\n",
              "                                                     [key], {});\n",
              "          if (!dataTable) return;\n",
              "\n",
              "          const docLinkHtml = 'Like what you see? Visit the ' +\n",
              "            '<a target=\"_blank\" href=https://colab.research.google.com/notebooks/data_table.ipynb>data table notebook</a>'\n",
              "            + ' to learn more about interactive tables.';\n",
              "          element.innerHTML = '';\n",
              "          dataTable['output_type'] = 'display_data';\n",
              "          await google.colab.output.renderOutput(dataTable, element);\n",
              "          const docLink = document.createElement('div');\n",
              "          docLink.innerHTML = docLinkHtml;\n",
              "          element.appendChild(docLink);\n",
              "        }\n",
              "      </script>\n",
              "    </div>\n",
              "  </div>\n",
              "  "
            ]
          },
          "metadata": {},
          "execution_count": 24
        }
      ]
    },
    {
      "cell_type": "code",
      "execution_count": 25,
      "id": "cb54f351",
      "metadata": {
        "id": "cb54f351"
      },
      "outputs": [],
      "source": [
        "data['Date']=pd.to_datetime(data['Date'])"
      ]
    },
    {
      "cell_type": "code",
      "execution_count": 26,
      "id": "d56f55f2",
      "metadata": {
        "colab": {
          "base_uri": "https://localhost:8080/"
        },
        "id": "d56f55f2",
        "outputId": "fd986bf3-f557-46e6-9d14-0c017600a0f2"
      },
      "outputs": [
        {
          "output_type": "stream",
          "name": "stdout",
          "text": [
            "[[1091.1 ]\n",
            " [1149.9 ]\n",
            " [1079.9 ]\n",
            " ...\n",
            " [2009.  ]\n",
            " [1995.25]\n",
            " [1993.5 ]]\n",
            "(2721, 1)\n"
          ]
        }
      ],
      "source": [
        "train=data.iloc[:,1:2].values\n",
        "print(train)\n",
        "print(train.shape)"
      ]
    },
    {
      "cell_type": "code",
      "execution_count": 27,
      "id": "17737db7",
      "metadata": {
        "colab": {
          "base_uri": "https://localhost:8080/"
        },
        "id": "17737db7",
        "outputId": "159a4e60-8f8f-4a04-8e9a-fede14e9abb3"
      },
      "outputs": [
        {
          "output_type": "execute_result",
          "data": {
            "text/plain": [
              "array([[0.25218182],\n",
              "       [0.28781818],\n",
              "       [0.24539394],\n",
              "       ...,\n",
              "       [0.80848485],\n",
              "       [0.80015152],\n",
              "       [0.79909091]])"
            ]
          },
          "metadata": {},
          "execution_count": 27
        }
      ],
      "source": [
        "from sklearn.preprocessing import MinMaxScaler\n",
        "scaler = MinMaxScaler (feature_range= (0,1))\n",
        "scaled_train = scaler.fit_transform(train)\n",
        "scaled_train"
      ]
    },
    {
      "cell_type": "code",
      "execution_count": 28,
      "id": "5b7ec4a6",
      "metadata": {
        "colab": {
          "base_uri": "https://localhost:8080/"
        },
        "id": "5b7ec4a6",
        "outputId": "8a13b971-2ab3-46a4-b754-73e25764faec"
      },
      "outputs": [
        {
          "output_type": "stream",
          "name": "stdout",
          "text": [
            "(2661, 60)\n",
            "(2661,)\n"
          ]
        }
      ],
      "source": [
        "x_train=[]\n",
        "y_train=[]\n",
        "for i in range(60,2721):\n",
        "    x_train.append(scaled_train[i-60:i,0])\n",
        "    y_train.append(scaled_train[i,0])\n",
        "x_train=np.array(x_train)\n",
        "y_train=np.array(y_train)\n",
        "print(x_train.shape)\n",
        "print(y_train.shape)"
      ]
    },
    {
      "cell_type": "code",
      "execution_count": 29,
      "id": "80c323b1",
      "metadata": {
        "colab": {
          "base_uri": "https://localhost:8080/"
        },
        "id": "80c323b1",
        "outputId": "372a6be0-a005-4ef4-b7cb-7fa956248f53"
      },
      "outputs": [
        {
          "output_type": "execute_result",
          "data": {
            "text/plain": [
              "(2661, 60, 1)"
            ]
          },
          "metadata": {},
          "execution_count": 29
        }
      ],
      "source": [
        "x_train=np.reshape(x_train,(x_train.shape[0],x_train.shape[1],1))\n",
        "x_train.shape"
      ]
    },
    {
      "cell_type": "code",
      "execution_count": 30,
      "id": "8178fcea",
      "metadata": {
        "id": "8178fcea"
      },
      "outputs": [],
      "source": [
        "#!pip install keras\n",
        "#!pip install TensorFlow\n",
        "#os.environ['KMP_DUPLICATE_LIB_OK']='True'\n",
        "from keras.models import Sequential\n",
        "from keras.layers import LSTM\n",
        "from keras.layers import Dense\n",
        "from keras.layers import Dropout"
      ]
    },
    {
      "cell_type": "code",
      "execution_count": 31,
      "id": "d5edbdfb",
      "metadata": {
        "id": "d5edbdfb"
      },
      "outputs": [],
      "source": [
        "regressor = Sequential()\n",
        "\n",
        "regressor.add(LSTM(units = 50, return_sequences= True, input_shape = (x_train.shape[1], 1)))\n",
        "regressor.add(Dropout (0.2))\n",
        "\n",
        "regressor.add(LSTM(units=50, return_sequences= True)) \n",
        "regressor.add(Dropout (0.2))\n",
        "\n",
        "regressor.add(LSTM(units = 50, return_sequences= True))\n",
        "regressor.add(Dropout (0.2))\n",
        "\n",
        "regressor.add(LSTM(units = 50, return_sequences= True))\n",
        "regressor.add(Dropout (0.2))\n",
        "\n",
        "regressor.add(LSTM(units = 50, return_sequences= True))\n",
        "regressor.add(Dropout (0.2))\n",
        "\n",
        "#regressor.add(LSTM(units = 50, return_sequences= True))\n",
        "#regressor.add(Dropout (0.2))\n",
        "\n",
        "#regressor.add(LSTM(units = 50, return_sequences= True))\n",
        "#regressor.add(Dropout (0.2))\n",
        "\n",
        "regressor.add(LSTM(units = 50))\n",
        "regressor.add(Dropout (0.2))\n",
        "\n",
        "regressor.add(Dense (units=1))"
      ]
    },
    {
      "cell_type": "code",
      "execution_count": null,
      "id": "763257ad",
      "metadata": {
        "colab": {
          "base_uri": "https://localhost:8080/"
        },
        "id": "763257ad",
        "outputId": "77526748-f105-43b7-9e0d-ce5733698b5b"
      },
      "outputs": [
        {
          "output_type": "stream",
          "name": "stdout",
          "text": [
            "Epoch 1/100\n",
            "84/84 [==============================] - 26s 182ms/step - loss: 0.0123\n",
            "Epoch 2/100\n",
            "84/84 [==============================] - 15s 184ms/step - loss: 0.0051\n",
            "Epoch 3/100\n",
            "84/84 [==============================] - 17s 198ms/step - loss: 0.0043\n",
            "Epoch 4/100\n",
            "84/84 [==============================] - 16s 184ms/step - loss: 0.0036\n",
            "Epoch 5/100\n",
            "84/84 [==============================] - 15s 182ms/step - loss: 0.0035\n",
            "Epoch 6/100\n",
            "84/84 [==============================] - 16s 185ms/step - loss: 0.0032\n",
            "Epoch 7/100\n",
            "84/84 [==============================] - 15s 184ms/step - loss: 0.0026\n",
            "Epoch 8/100\n",
            "84/84 [==============================] - 15s 183ms/step - loss: 0.0026\n",
            "Epoch 9/100\n",
            "84/84 [==============================] - 15s 183ms/step - loss: 0.0023\n",
            "Epoch 10/100\n",
            "84/84 [==============================] - 15s 184ms/step - loss: 0.0024\n",
            "Epoch 11/100\n",
            "84/84 [==============================] - 17s 197ms/step - loss: 0.0025\n",
            "Epoch 12/100\n",
            "84/84 [==============================] - 15s 183ms/step - loss: 0.0024\n",
            "Epoch 13/100\n",
            "84/84 [==============================] - 16s 184ms/step - loss: 0.0024\n",
            "Epoch 14/100\n",
            "84/84 [==============================] - 15s 183ms/step - loss: 0.0020\n",
            "Epoch 15/100\n",
            "84/84 [==============================] - 15s 184ms/step - loss: 0.0019\n",
            "Epoch 16/100\n",
            "84/84 [==============================] - 16s 185ms/step - loss: 0.0019\n",
            "Epoch 17/100\n",
            "84/84 [==============================] - 15s 183ms/step - loss: 0.0019\n",
            "Epoch 18/100\n",
            "84/84 [==============================] - 15s 184ms/step - loss: 0.0018\n",
            "Epoch 19/100\n",
            "84/84 [==============================] - 16s 195ms/step - loss: 0.0016\n",
            "Epoch 20/100\n",
            "84/84 [==============================] - 16s 184ms/step - loss: 0.0015\n",
            "Epoch 21/100\n",
            "84/84 [==============================] - 16s 185ms/step - loss: 0.0018\n",
            "Epoch 22/100\n",
            "84/84 [==============================] - 15s 184ms/step - loss: 0.0015\n",
            "Epoch 23/100\n",
            "84/84 [==============================] - 16s 187ms/step - loss: 0.0014\n",
            "Epoch 24/100\n",
            "84/84 [==============================] - 15s 184ms/step - loss: 0.0012\n",
            "Epoch 25/100\n",
            "84/84 [==============================] - 16s 185ms/step - loss: 0.0015\n",
            "Epoch 26/100\n",
            "84/84 [==============================] - 16s 192ms/step - loss: 0.0015\n",
            "Epoch 27/100\n",
            "84/84 [==============================] - 26s 309ms/step - loss: 0.0013\n",
            "Epoch 28/100\n",
            "84/84 [==============================] - 16s 188ms/step - loss: 0.0017\n",
            "Epoch 29/100\n",
            "84/84 [==============================] - 16s 190ms/step - loss: 0.0012\n",
            "Epoch 30/100\n",
            "84/84 [==============================] - 16s 188ms/step - loss: 0.0012\n",
            "Epoch 31/100\n",
            "84/84 [==============================] - 16s 189ms/step - loss: 0.0011\n",
            "Epoch 32/100\n",
            "84/84 [==============================] - 16s 188ms/step - loss: 0.0011\n",
            "Epoch 33/100\n",
            "84/84 [==============================] - 16s 194ms/step - loss: 0.0010\n",
            "Epoch 34/100\n",
            "84/84 [==============================] - 16s 191ms/step - loss: 0.0011\n",
            "Epoch 35/100\n",
            "84/84 [==============================] - 18s 213ms/step - loss: 9.7770e-04\n",
            "Epoch 36/100\n",
            "84/84 [==============================] - 16s 190ms/step - loss: 0.0011\n",
            "Epoch 37/100\n",
            "84/84 [==============================] - 16s 189ms/step - loss: 9.6351e-04\n",
            "Epoch 38/100\n",
            "84/84 [==============================] - 16s 188ms/step - loss: 0.0010\n",
            "Epoch 39/100\n",
            "84/84 [==============================] - 16s 188ms/step - loss: 9.2401e-04\n",
            "Epoch 40/100\n",
            "84/84 [==============================] - 16s 187ms/step - loss: 8.8903e-04\n",
            "Epoch 41/100\n",
            "84/84 [==============================] - 16s 186ms/step - loss: 0.0010\n",
            "Epoch 42/100\n",
            "84/84 [==============================] - 17s 198ms/step - loss: 9.1193e-04\n",
            "Epoch 43/100\n",
            "84/84 [==============================] - 16s 193ms/step - loss: 0.0010\n",
            "Epoch 44/100\n",
            "84/84 [==============================] - 16s 190ms/step - loss: 0.0011\n",
            "Epoch 45/100\n",
            "84/84 [==============================] - 16s 188ms/step - loss: 9.3320e-04\n",
            "Epoch 46/100\n",
            "84/84 [==============================] - 16s 189ms/step - loss: 9.0766e-04\n",
            "Epoch 47/100\n",
            "84/84 [==============================] - 16s 188ms/step - loss: 0.0011\n",
            "Epoch 48/100\n",
            "84/84 [==============================] - 16s 188ms/step - loss: 9.2576e-04\n",
            "Epoch 49/100\n",
            "84/84 [==============================] - 16s 188ms/step - loss: 8.0254e-04\n",
            "Epoch 50/100\n",
            "84/84 [==============================] - 17s 202ms/step - loss: 8.2319e-04\n",
            "Epoch 51/100\n",
            "84/84 [==============================] - 16s 189ms/step - loss: 9.0212e-04\n",
            "Epoch 52/100\n",
            "84/84 [==============================] - 16s 188ms/step - loss: 7.7909e-04\n",
            "Epoch 53/100\n",
            "84/84 [==============================] - 16s 188ms/step - loss: 8.8644e-04\n",
            "Epoch 54/100\n",
            "84/84 [==============================] - 16s 188ms/step - loss: 8.8060e-04\n",
            "Epoch 55/100\n",
            "84/84 [==============================] - 16s 188ms/step - loss: 8.5022e-04\n",
            "Epoch 56/100\n",
            "84/84 [==============================] - 16s 186ms/step - loss: 7.8302e-04\n",
            "Epoch 57/100\n",
            "84/84 [==============================] - 16s 187ms/step - loss: 8.6356e-04\n",
            "Epoch 58/100\n",
            "84/84 [==============================] - 17s 198ms/step - loss: 0.0010\n",
            "Epoch 59/100\n",
            "84/84 [==============================] - 16s 186ms/step - loss: 8.1371e-04\n",
            "Epoch 60/100\n",
            "84/84 [==============================] - 16s 188ms/step - loss: 7.9662e-04\n",
            "Epoch 61/100\n",
            "84/84 [==============================] - 16s 190ms/step - loss: 8.2209e-04\n",
            "Epoch 62/100\n",
            "84/84 [==============================] - 16s 190ms/step - loss: 8.5783e-04\n",
            "Epoch 63/100\n",
            "84/84 [==============================] - 16s 191ms/step - loss: 8.8276e-04\n",
            "Epoch 64/100\n",
            "84/84 [==============================] - 16s 189ms/step - loss: 8.2585e-04\n",
            "Epoch 65/100\n",
            "84/84 [==============================] - 16s 191ms/step - loss: 7.2905e-04\n",
            "Epoch 66/100\n",
            "84/84 [==============================] - 17s 202ms/step - loss: 8.7132e-04\n",
            "Epoch 67/100\n",
            "84/84 [==============================] - 16s 191ms/step - loss: 9.2069e-04\n",
            "Epoch 68/100\n",
            "84/84 [==============================] - 16s 190ms/step - loss: 7.6832e-04\n",
            "Epoch 69/100\n",
            "84/84 [==============================] - 16s 190ms/step - loss: 7.5823e-04\n",
            "Epoch 70/100\n",
            "84/84 [==============================] - 16s 189ms/step - loss: 7.7471e-04\n",
            "Epoch 71/100\n",
            "84/84 [==============================] - 16s 189ms/step - loss: 8.3829e-04\n",
            "Epoch 72/100\n",
            "84/84 [==============================] - 16s 188ms/step - loss: 7.4118e-04\n",
            "Epoch 73/100\n",
            "84/84 [==============================] - 16s 185ms/step - loss: 7.9540e-04\n",
            "Epoch 74/100\n",
            "84/84 [==============================] - 17s 198ms/step - loss: 7.3648e-04\n",
            "Epoch 75/100\n",
            "84/84 [==============================] - 15s 182ms/step - loss: 8.2385e-04\n",
            "Epoch 76/100\n",
            "84/84 [==============================] - 15s 183ms/step - loss: 7.2539e-04\n",
            "Epoch 77/100\n",
            "84/84 [==============================] - 16s 185ms/step - loss: 7.3811e-04\n",
            "Epoch 78/100\n",
            "84/84 [==============================] - 16s 189ms/step - loss: 7.2413e-04\n",
            "Epoch 79/100\n",
            "84/84 [==============================] - 16s 186ms/step - loss: 7.1235e-04\n",
            "Epoch 80/100\n",
            "84/84 [==============================] - 16s 191ms/step - loss: 6.8876e-04\n",
            "Epoch 81/100\n",
            "84/84 [==============================] - 16s 191ms/step - loss: 7.4889e-04\n",
            "Epoch 82/100\n",
            "84/84 [==============================] - 17s 203ms/step - loss: 8.5006e-04\n",
            "Epoch 83/100\n",
            "84/84 [==============================] - 16s 190ms/step - loss: 8.9709e-04\n",
            "Epoch 84/100\n",
            "84/84 [==============================] - 16s 191ms/step - loss: 8.4959e-04\n",
            "Epoch 85/100\n",
            "84/84 [==============================] - 16s 190ms/step - loss: 6.9907e-04\n",
            "Epoch 86/100\n",
            "84/84 [==============================] - 16s 191ms/step - loss: 7.5489e-04\n",
            "Epoch 87/100\n",
            "84/84 [==============================] - 16s 189ms/step - loss: 6.7898e-04\n",
            "Epoch 88/100\n",
            "84/84 [==============================] - 16s 187ms/step - loss: 6.4728e-04\n",
            "Epoch 89/100\n",
            "84/84 [==============================] - 16s 187ms/step - loss: 6.9410e-04\n",
            "Epoch 90/100\n",
            "84/84 [==============================] - 17s 198ms/step - loss: 7.8650e-04\n",
            "Epoch 91/100\n",
            "52/84 [=================>............] - ETA: 6s - loss: 5.5875e-04"
          ]
        }
      ],
      "source": [
        "regressor.compile(optimizer='adam',loss='mean_squared_error')\n",
        "regressor.fit(x_train,y_train,epochs=100,batch_size=32)"
      ]
    },
    {
      "cell_type": "code",
      "execution_count": 33,
      "id": "17879431",
      "metadata": {
        "colab": {
          "resources": {
            "http://localhost:8080/nbextensions/google.colab/files.js": {
              "data": "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",
              "ok": true,
              "headers": [
                [
                  "content-type",
                  "application/javascript"
                ]
              ],
              "status": 200,
              "status_text": ""
            }
          },
          "base_uri": "https://localhost:8080/",
          "height": 74
        },
        "id": "17879431",
        "outputId": "a74c6969-d423-4738-dc41-7759fe586e7d"
      },
      "outputs": [
        {
          "output_type": "display_data",
          "data": {
            "text/plain": [
              "<IPython.core.display.HTML object>"
            ],
            "text/html": [
              "\n",
              "     <input type=\"file\" id=\"files-2e03a8c1-34ac-4fa2-b330-5aeb39d1db90\" name=\"files[]\" multiple disabled\n",
              "        style=\"border:none\" />\n",
              "     <output id=\"result-2e03a8c1-34ac-4fa2-b330-5aeb39d1db90\">\n",
              "      Upload widget is only available when the cell has been executed in the\n",
              "      current browser session. Please rerun this cell to enable.\n",
              "      </output>\n",
              "      <script src=\"/nbextensions/google.colab/files.js\"></script> "
            ]
          },
          "metadata": {}
        },
        {
          "output_type": "stream",
          "name": "stdout",
          "text": [
            "Saving reliance_2021_actual.csv to reliance_2021_actual (1).csv\n"
          ]
        }
      ],
      "source": [
        "from google.colab import files\n",
        "uploaded = files.upload()"
      ]
    },
    {
      "cell_type": "code",
      "source": [
        "#import io\n",
        "data_test = pd.read_csv(io.BytesIO(uploaded['reliance_2021_actual.csv']))\n",
        "data_test['Date']=pd.to_datetime(data_test['Date'])\n",
        "data_test"
      ],
      "metadata": {
        "colab": {
          "base_uri": "https://localhost:8080/",
          "height": 677
        },
        "id": "SQ4Iu7ZDjI1r",
        "outputId": "d1b8c51a-9e18-4350-f707-02d4dd1cac23"
      },
      "id": "SQ4Iu7ZDjI1r",
      "execution_count": 34,
      "outputs": [
        {
          "output_type": "execute_result",
          "data": {
            "text/plain": [
              "         Date  Open Price  High Price  Low Price  Close Price  Deliverable Qty\n",
              "0  2021-01-01     1988.00     1997.00    1982.00      1987.50          1013314\n",
              "1  2021-01-04     1995.10     1998.90    1968.00      1990.85          3869604\n",
              "2  2021-01-05     1969.00     1983.60    1956.00      1966.10          5208047\n",
              "3  2021-01-06     1965.90     1966.00    1905.15      1914.25          9038101\n",
              "4  2021-01-07     1920.50     1945.00    1905.15      1911.15          6452659\n",
              "5  2021-01-08     1918.00     1938.40    1912.10      1933.70          5303550\n",
              "6  2021-01-11     1938.80     1938.80    1892.50      1897.25          7697815\n",
              "7  2021-01-12     1903.00     1960.00    1899.90      1957.05          8987850\n",
              "8  2021-01-13     1963.55     1974.95    1918.45      1938.80          4368602\n",
              "9  2021-01-14     1945.00     1966.90    1939.05      1960.60          5225648\n",
              "10 2021-01-15     1960.60     1973.80    1920.05      1937.45          3947767\n",
              "11 2021-01-18     1949.10     1997.00    1923.35      1983.95          6014603\n",
              "12 2021-01-19     1994.65     2031.00    1994.65      2016.40          6055057\n",
              "13 2021-01-20     2021.40     2058.00    2001.40      2054.70          6676332\n",
              "14 2021-01-21     2082.00     2120.00    2075.00      2099.40          6386636\n",
              "15 2021-01-22     2111.00     2115.35    2035.15      2049.60          3512524\n",
              "16 2021-01-25     2034.95     2034.95    1932.00      1941.00          9041658\n",
              "17 2021-01-27     1925.00     1925.00    1888.00      1895.00          9587173\n",
              "18 2021-01-28     1880.15     1923.30    1870.00      1876.55          4697008\n",
              "19 2021-01-29     1894.30     1913.10    1830.00      1841.95          9106845"
            ],
            "text/html": [
              "\n",
              "  <div id=\"df-365d824b-66ba-4528-aad3-0269aa5b3d06\">\n",
              "    <div class=\"colab-df-container\">\n",
              "      <div>\n",
              "<style scoped>\n",
              "    .dataframe tbody tr th:only-of-type {\n",
              "        vertical-align: middle;\n",
              "    }\n",
              "\n",
              "    .dataframe tbody tr th {\n",
              "        vertical-align: top;\n",
              "    }\n",
              "\n",
              "    .dataframe thead th {\n",
              "        text-align: right;\n",
              "    }\n",
              "</style>\n",
              "<table border=\"1\" class=\"dataframe\">\n",
              "  <thead>\n",
              "    <tr style=\"text-align: right;\">\n",
              "      <th></th>\n",
              "      <th>Date</th>\n",
              "      <th>Open Price</th>\n",
              "      <th>High Price</th>\n",
              "      <th>Low Price</th>\n",
              "      <th>Close Price</th>\n",
              "      <th>Deliverable Qty</th>\n",
              "    </tr>\n",
              "  </thead>\n",
              "  <tbody>\n",
              "    <tr>\n",
              "      <th>0</th>\n",
              "      <td>2021-01-01</td>\n",
              "      <td>1988.00</td>\n",
              "      <td>1997.00</td>\n",
              "      <td>1982.00</td>\n",
              "      <td>1987.50</td>\n",
              "      <td>1013314</td>\n",
              "    </tr>\n",
              "    <tr>\n",
              "      <th>1</th>\n",
              "      <td>2021-01-04</td>\n",
              "      <td>1995.10</td>\n",
              "      <td>1998.90</td>\n",
              "      <td>1968.00</td>\n",
              "      <td>1990.85</td>\n",
              "      <td>3869604</td>\n",
              "    </tr>\n",
              "    <tr>\n",
              "      <th>2</th>\n",
              "      <td>2021-01-05</td>\n",
              "      <td>1969.00</td>\n",
              "      <td>1983.60</td>\n",
              "      <td>1956.00</td>\n",
              "      <td>1966.10</td>\n",
              "      <td>5208047</td>\n",
              "    </tr>\n",
              "    <tr>\n",
              "      <th>3</th>\n",
              "      <td>2021-01-06</td>\n",
              "      <td>1965.90</td>\n",
              "      <td>1966.00</td>\n",
              "      <td>1905.15</td>\n",
              "      <td>1914.25</td>\n",
              "      <td>9038101</td>\n",
              "    </tr>\n",
              "    <tr>\n",
              "      <th>4</th>\n",
              "      <td>2021-01-07</td>\n",
              "      <td>1920.50</td>\n",
              "      <td>1945.00</td>\n",
              "      <td>1905.15</td>\n",
              "      <td>1911.15</td>\n",
              "      <td>6452659</td>\n",
              "    </tr>\n",
              "    <tr>\n",
              "      <th>5</th>\n",
              "      <td>2021-01-08</td>\n",
              "      <td>1918.00</td>\n",
              "      <td>1938.40</td>\n",
              "      <td>1912.10</td>\n",
              "      <td>1933.70</td>\n",
              "      <td>5303550</td>\n",
              "    </tr>\n",
              "    <tr>\n",
              "      <th>6</th>\n",
              "      <td>2021-01-11</td>\n",
              "      <td>1938.80</td>\n",
              "      <td>1938.80</td>\n",
              "      <td>1892.50</td>\n",
              "      <td>1897.25</td>\n",
              "      <td>7697815</td>\n",
              "    </tr>\n",
              "    <tr>\n",
              "      <th>7</th>\n",
              "      <td>2021-01-12</td>\n",
              "      <td>1903.00</td>\n",
              "      <td>1960.00</td>\n",
              "      <td>1899.90</td>\n",
              "      <td>1957.05</td>\n",
              "      <td>8987850</td>\n",
              "    </tr>\n",
              "    <tr>\n",
              "      <th>8</th>\n",
              "      <td>2021-01-13</td>\n",
              "      <td>1963.55</td>\n",
              "      <td>1974.95</td>\n",
              "      <td>1918.45</td>\n",
              "      <td>1938.80</td>\n",
              "      <td>4368602</td>\n",
              "    </tr>\n",
              "    <tr>\n",
              "      <th>9</th>\n",
              "      <td>2021-01-14</td>\n",
              "      <td>1945.00</td>\n",
              "      <td>1966.90</td>\n",
              "      <td>1939.05</td>\n",
              "      <td>1960.60</td>\n",
              "      <td>5225648</td>\n",
              "    </tr>\n",
              "    <tr>\n",
              "      <th>10</th>\n",
              "      <td>2021-01-15</td>\n",
              "      <td>1960.60</td>\n",
              "      <td>1973.80</td>\n",
              "      <td>1920.05</td>\n",
              "      <td>1937.45</td>\n",
              "      <td>3947767</td>\n",
              "    </tr>\n",
              "    <tr>\n",
              "      <th>11</th>\n",
              "      <td>2021-01-18</td>\n",
              "      <td>1949.10</td>\n",
              "      <td>1997.00</td>\n",
              "      <td>1923.35</td>\n",
              "      <td>1983.95</td>\n",
              "      <td>6014603</td>\n",
              "    </tr>\n",
              "    <tr>\n",
              "      <th>12</th>\n",
              "      <td>2021-01-19</td>\n",
              "      <td>1994.65</td>\n",
              "      <td>2031.00</td>\n",
              "      <td>1994.65</td>\n",
              "      <td>2016.40</td>\n",
              "      <td>6055057</td>\n",
              "    </tr>\n",
              "    <tr>\n",
              "      <th>13</th>\n",
              "      <td>2021-01-20</td>\n",
              "      <td>2021.40</td>\n",
              "      <td>2058.00</td>\n",
              "      <td>2001.40</td>\n",
              "      <td>2054.70</td>\n",
              "      <td>6676332</td>\n",
              "    </tr>\n",
              "    <tr>\n",
              "      <th>14</th>\n",
              "      <td>2021-01-21</td>\n",
              "      <td>2082.00</td>\n",
              "      <td>2120.00</td>\n",
              "      <td>2075.00</td>\n",
              "      <td>2099.40</td>\n",
              "      <td>6386636</td>\n",
              "    </tr>\n",
              "    <tr>\n",
              "      <th>15</th>\n",
              "      <td>2021-01-22</td>\n",
              "      <td>2111.00</td>\n",
              "      <td>2115.35</td>\n",
              "      <td>2035.15</td>\n",
              "      <td>2049.60</td>\n",
              "      <td>3512524</td>\n",
              "    </tr>\n",
              "    <tr>\n",
              "      <th>16</th>\n",
              "      <td>2021-01-25</td>\n",
              "      <td>2034.95</td>\n",
              "      <td>2034.95</td>\n",
              "      <td>1932.00</td>\n",
              "      <td>1941.00</td>\n",
              "      <td>9041658</td>\n",
              "    </tr>\n",
              "    <tr>\n",
              "      <th>17</th>\n",
              "      <td>2021-01-27</td>\n",
              "      <td>1925.00</td>\n",
              "      <td>1925.00</td>\n",
              "      <td>1888.00</td>\n",
              "      <td>1895.00</td>\n",
              "      <td>9587173</td>\n",
              "    </tr>\n",
              "    <tr>\n",
              "      <th>18</th>\n",
              "      <td>2021-01-28</td>\n",
              "      <td>1880.15</td>\n",
              "      <td>1923.30</td>\n",
              "      <td>1870.00</td>\n",
              "      <td>1876.55</td>\n",
              "      <td>4697008</td>\n",
              "    </tr>\n",
              "    <tr>\n",
              "      <th>19</th>\n",
              "      <td>2021-01-29</td>\n",
              "      <td>1894.30</td>\n",
              "      <td>1913.10</td>\n",
              "      <td>1830.00</td>\n",
              "      <td>1841.95</td>\n",
              "      <td>9106845</td>\n",
              "    </tr>\n",
              "  </tbody>\n",
              "</table>\n",
              "</div>\n",
              "      <button class=\"colab-df-convert\" onclick=\"convertToInteractive('df-365d824b-66ba-4528-aad3-0269aa5b3d06')\"\n",
              "              title=\"Convert this dataframe to an interactive table.\"\n",
              "              style=\"display:none;\">\n",
              "        \n",
              "  <svg xmlns=\"http://www.w3.org/2000/svg\" height=\"24px\"viewBox=\"0 0 24 24\"\n",
              "       width=\"24px\">\n",
              "    <path d=\"M0 0h24v24H0V0z\" fill=\"none\"/>\n",
              "    <path d=\"M18.56 5.44l.94 2.06.94-2.06 2.06-.94-2.06-.94-.94-2.06-.94 2.06-2.06.94zm-11 1L8.5 8.5l.94-2.06 2.06-.94-2.06-.94L8.5 2.5l-.94 2.06-2.06.94zm10 10l.94 2.06.94-2.06 2.06-.94-2.06-.94-.94-2.06-.94 2.06-2.06.94z\"/><path d=\"M17.41 7.96l-1.37-1.37c-.4-.4-.92-.59-1.43-.59-.52 0-1.04.2-1.43.59L10.3 9.45l-7.72 7.72c-.78.78-.78 2.05 0 2.83L4 21.41c.39.39.9.59 1.41.59.51 0 1.02-.2 1.41-.59l7.78-7.78 2.81-2.81c.8-.78.8-2.07 0-2.86zM5.41 20L4 18.59l7.72-7.72 1.47 1.35L5.41 20z\"/>\n",
              "  </svg>\n",
              "      </button>\n",
              "      \n",
              "  <style>\n",
              "    .colab-df-container {\n",
              "      display:flex;\n",
              "      flex-wrap:wrap;\n",
              "      gap: 12px;\n",
              "    }\n",
              "\n",
              "    .colab-df-convert {\n",
              "      background-color: #E8F0FE;\n",
              "      border: none;\n",
              "      border-radius: 50%;\n",
              "      cursor: pointer;\n",
              "      display: none;\n",
              "      fill: #1967D2;\n",
              "      height: 32px;\n",
              "      padding: 0 0 0 0;\n",
              "      width: 32px;\n",
              "    }\n",
              "\n",
              "    .colab-df-convert:hover {\n",
              "      background-color: #E2EBFA;\n",
              "      box-shadow: 0px 1px 2px rgba(60, 64, 67, 0.3), 0px 1px 3px 1px rgba(60, 64, 67, 0.15);\n",
              "      fill: #174EA6;\n",
              "    }\n",
              "\n",
              "    [theme=dark] .colab-df-convert {\n",
              "      background-color: #3B4455;\n",
              "      fill: #D2E3FC;\n",
              "    }\n",
              "\n",
              "    [theme=dark] .colab-df-convert:hover {\n",
              "      background-color: #434B5C;\n",
              "      box-shadow: 0px 1px 3px 1px rgba(0, 0, 0, 0.15);\n",
              "      filter: drop-shadow(0px 1px 2px rgba(0, 0, 0, 0.3));\n",
              "      fill: #FFFFFF;\n",
              "    }\n",
              "  </style>\n",
              "\n",
              "      <script>\n",
              "        const buttonEl =\n",
              "          document.querySelector('#df-365d824b-66ba-4528-aad3-0269aa5b3d06 button.colab-df-convert');\n",
              "        buttonEl.style.display =\n",
              "          google.colab.kernel.accessAllowed ? 'block' : 'none';\n",
              "\n",
              "        async function convertToInteractive(key) {\n",
              "          const element = document.querySelector('#df-365d824b-66ba-4528-aad3-0269aa5b3d06');\n",
              "          const dataTable =\n",
              "            await google.colab.kernel.invokeFunction('convertToInteractive',\n",
              "                                                     [key], {});\n",
              "          if (!dataTable) return;\n",
              "\n",
              "          const docLinkHtml = 'Like what you see? Visit the ' +\n",
              "            '<a target=\"_blank\" href=https://colab.research.google.com/notebooks/data_table.ipynb>data table notebook</a>'\n",
              "            + ' to learn more about interactive tables.';\n",
              "          element.innerHTML = '';\n",
              "          dataTable['output_type'] = 'display_data';\n",
              "          await google.colab.output.renderOutput(dataTable, element);\n",
              "          const docLink = document.createElement('div');\n",
              "          docLink.innerHTML = docLinkHtml;\n",
              "          element.appendChild(docLink);\n",
              "        }\n",
              "      </script>\n",
              "    </div>\n",
              "  </div>\n",
              "  "
            ]
          },
          "metadata": {},
          "execution_count": 34
        }
      ]
    },
    {
      "cell_type": "code",
      "source": [
        "actual_price=data_test.iloc[:,1:2].values"
      ],
      "metadata": {
        "id": "-bdd7__ZkpxE"
      },
      "id": "-bdd7__ZkpxE",
      "execution_count": 35,
      "outputs": []
    },
    {
      "cell_type": "code",
      "execution_count": 36,
      "id": "f2cbaae3",
      "metadata": {
        "id": "f2cbaae3"
      },
      "outputs": [],
      "source": [
        "data_total=pd.concat((data['Open Price'],data_test['Open Price']),axis=0)\n",
        "input=data_total[len(data_total)-len(data_test)-60:].values\n",
        "\n",
        "input=input.reshape(-1,1)\n",
        "input=scaler.transform(input)\n",
        "\n",
        "x_test=[]\n",
        "for i in range(60,80):\n",
        "  x_test.append(input[i-60:i,0])\n",
        "x_test=np.array(x_test)\n",
        "x_test=np.reshape(x_test,(x_test.shape[0],x_test.shape[1],1))"
      ]
    },
    {
      "cell_type": "code",
      "source": [
        "predicted_price=regressor.predict(x_test)\n",
        "predicted_price=scaler.inverse_transform(predicted_price)\n",
        "                            "
      ],
      "metadata": {
        "id": "2by855hQiLPA"
      },
      "id": "2by855hQiLPA",
      "execution_count": 37,
      "outputs": []
    },
    {
      "cell_type": "code",
      "source": [
        "plt.plot(actual_price, color = 'red', label = 'Actual Reliance Stock Price')\n",
        "plt.plot(predicted_price, color = 'blue', label = 'Predicted Reliance Stock Price')\n",
        "plt.title('Reliance Stock Price Prediction')\n",
        "plt.xlabel('Time')\n",
        "plt.ylabel('Reliance Stock Price')\n",
        "plt.legend()"
      ],
      "metadata": {
        "colab": {
          "base_uri": "https://localhost:8080/",
          "height": 313
        },
        "id": "tgx1bM5hiX_6",
        "outputId": "fdaedb0b-68fe-423c-ff9a-d2fe64d0853c"
      },
      "id": "tgx1bM5hiX_6",
      "execution_count": 38,
      "outputs": [
        {
          "output_type": "execute_result",
          "data": {
            "text/plain": [
              "<matplotlib.legend.Legend at 0x7fa7f9210e10>"
            ]
          },
          "metadata": {},
          "execution_count": 38
        },
        {
          "output_type": "display_data",
          "data": {
            "text/plain": [
              "<Figure size 432x288 with 1 Axes>"
            ],
            "image/png": "[encoded data removed]"
          },
          "metadata": {
            "needs_background": "light"
          }
        }
      ]
    }
  ],
  "metadata": {
    "kernelspec": {
      "display_name": "Python 3 (ipykernel)",
      "language": "python",
      "name": "python3"
    },
    "language_info": {
      "codemirror_mode": {
        "name": "ipython",
        "version": 3
      },
      "file_extension": ".py",
      "mimetype": "text/x-python",
      "name": "python",
      "nbconvert_exporter": "python",
      "pygments_lexer": "ipython3",
      "version": "3.8.13"
    },
    "colab": {
      "name": "reliance_stock_prediction.ipynb",
      "provenance": [],
      "collapsed_sections": [],
      "include_colab_link": true
    }
  },
  "nbformat": 4,
  "nbformat_minor": 5
}